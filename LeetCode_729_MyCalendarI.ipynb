{
  "nbformat": 4,
  "nbformat_minor": 0,
  "metadata": {
    "colab": {
      "provenance": [],
      "authorship_tag": "ABX9TyOt4W7w8NT3XmXSzE8Tv9bl",
      "include_colab_link": true
    },
    "kernelspec": {
      "name": "python3",
      "display_name": "Python 3"
    },
    "language_info": {
      "name": "python"
    }
  },
  "cells": [
    {
      "cell_type": "markdown",
      "metadata": {
        "id": "view-in-github",
        "colab_type": "text"
      },
      "source": [
        "<a href=\"https://colab.research.google.com/github/sanntana21/LeetCode/blob/main/LeetCode_729_MyCalendarI.ipynb\" target=\"_parent\"><img src=\"https://colab.research.google.com/assets/colab-badge.svg\" alt=\"Open In Colab\"/></a>"
      ]
    },
    {
      "cell_type": "markdown",
      "source": [
        "# **729. My Calendar I**\n",
        "\n",
        "You are implementing a program to use as your calendar. We can add a new event if adding the event will not cause a double booking.\n",
        "\n",
        "A double booking happens when two events have some non-empty intersection (i.e., some moment is common to both events.).\n",
        "\n",
        "The event can be represented as a pair of integers start and end that represents a booking on the half-open interval [start, end), the range of real numbers x such that start <= x < end.\n",
        "\n",
        "Implement the MyCalendar class:\n",
        "\n",
        "MyCalendar() Initializes the calendar object.\n",
        "boolean book(int start, int end) Returns true if the event can be added to the calendar successfully without causing a double booking. Otherwise, return false and do not add the event to the calendar.\n",
        "\n",
        "**Example 1:**\n",
        "\n",
        "**Input**\n",
        "\n",
        "[\"MyCalendar\", \"book\", \"book\", \"book\"]\n",
        "[[], [10, 20], [15, 25], [20, 30]]\n",
        "\n",
        "**Output**\n",
        "\n",
        "[null, true, false, true]\n",
        "\n",
        "**Explanation**\n",
        "\n",
        "MyCalendar myCalendar = new MyCalendar();\n",
        "\n",
        "myCalendar.book(10, 20); // return True\n",
        "\n",
        "myCalendar.book(15, 25); // return False, It can not be booked because time 15 is already booked by another event.\n",
        "\n",
        "myCalendar.book(20, 30); // return True, The event can be booked, as the first event takes every time less than 20, but not including 20."
      ],
      "metadata": {
        "id": "--CeolwuSlA6"
      }
    },
    {
      "cell_type": "code",
      "execution_count": 1,
      "metadata": {
        "id": "miUulnaV3AP-"
      },
      "outputs": [],
      "source": [
        "class MyCalendar:\n",
        "    def __init__(self):\n",
        "        self.ocupado = [(-1,-1),(10**9,10**9+1)]\n",
        "    def book(self, start: int, end: int) -> bool:\n",
        "        disponible = False if list(filter(lambda x: (x[0] >= start and x[1] <= end) or\n",
        "                              (x[0] <= start and x[1] >= end) or\n",
        "                              (x[0] >= start and x[1] >= end and x[0] < end) or\n",
        "                              (x[0] <= start and x[1] <= end and x[1] > start),\n",
        "                              self.ocupado)) else True\n",
        "        if disponible:\n",
        "            izquierda = max(list(filter(lambda x: x[1] <= start,self.ocupado)))\n",
        "            derecha = min(list(filter(lambda x: x[0] >= end,self.ocupado)))\n",
        "            if izquierda[1] +0 == start & derecha[0] -0 == end:\n",
        "                nuevos = [a for a in self.ocupado if a != izquierda & a != derecha]\n",
        "                nuevos.append((izquierda[0],derecha[1]))\n",
        "            elif izquierda[1] +0 == start:\n",
        "                nuevos = [a for a in self.ocupado if a != izquierda]\n",
        "                nuevos.append((izquierda[0],end))\n",
        "            elif derecha[0] -0 == end:\n",
        "                nuevos = [a for a in self.ocupado if a != derecha]\n",
        "                nuevos.append((start,derecha[1]))\n",
        "            else:\n",
        "                nuevos = self.ocupado\n",
        "                nuevos.append((start,end))\n",
        "            self.ocupado = nuevos\n",
        "        return disponible"
      ]
    },
    {
      "cell_type": "code",
      "source": [
        "c = MyCalendar()\n",
        "for a in [[47,50],[33,41],[39,45],[33,42],[25,32],[26,35],[19,25],[3,8],[8,13],[18,27]]:\n",
        "    print(c.book(a[0],a[1]))"
      ],
      "metadata": {
        "id": "YNsT9H3DLb6u",
        "colab": {
          "base_uri": "https://localhost:8080/"
        },
        "outputId": "15bb86ff-3d73-4b1a-8261-027b41cb4ded"
      },
      "execution_count": 2,
      "outputs": [
        {
          "output_type": "stream",
          "name": "stdout",
          "text": [
            "True\n",
            "True\n",
            "False\n",
            "False\n",
            "True\n",
            "False\n",
            "True\n",
            "True\n",
            "True\n",
            "False\n"
          ]
        }
      ]
    }
  ]
}