{
  "nbformat": 4,
  "nbformat_minor": 0,
  "metadata": {
    "colab": {
      "provenance": [],
      "authorship_tag": "ABX9TyPGez+lGJfBJ7HcStjM6ZvV",
      "include_colab_link": true
    },
    "kernelspec": {
      "name": "python3",
      "display_name": "Python 3"
    },
    "language_info": {
      "name": "python"
    }
  },
  "cells": [
    {
      "cell_type": "markdown",
      "metadata": {
        "id": "view-in-github",
        "colab_type": "text"
      },
      "source": [
        "<a href=\"https://colab.research.google.com/github/sanntana21/LeetCode/blob/main/LeetCode_539_MinimunTimeDifference.ipynb\" target=\"_parent\"><img src=\"https://colab.research.google.com/assets/colab-badge.svg\" alt=\"Open In Colab\"/></a>"
      ]
    },
    {
      "cell_type": "markdown",
      "source": [
        "# **539. Minimum Time Difference**\n",
        "\n",
        "Given a list of 24-hour clock time points in \"HH:MM\" format, return the minimum minutes difference between any two time-points in the list.\n",
        "\n",
        "\n",
        "**Example 1:**\n",
        "\n",
        "Input:\n",
        "\n",
        "    timePoints = [\"23:59\",\"00:00\"]\n",
        "    Output: 1\n",
        "\n",
        "**Example 2:**\n",
        "\n",
        "    Input: timePoints = [\"00:00\",\"23:59\",\"00:00\"]\n",
        "    Output: 0\n",
        "\n",
        "\n",
        "**Constraints:**\n",
        "\n",
        "    2 <= timePoints.length <= 2 * 104\n",
        "    timePoints[i] is in the format \"HH:MM\"."
      ],
      "metadata": {
        "id": "--CeolwuSlA6"
      }
    },
    {
      "cell_type": "code",
      "execution_count": 31,
      "metadata": {
        "id": "miUulnaV3AP-"
      },
      "outputs": [],
      "source": [
        "class Solution:\n",
        "    def findMinDifference(self, timePoints: list[str]) -> int:\n",
        "        set_of_timepoints = list(set(map(lambda x: int(x[0:2])*60 + int(x[3:]),timePoints)))\n",
        "        if len(timePoints) > len(set_of_timepoints):\n",
        "          return 0\n",
        "        set_of_timepoints.extend([a+24*60 for a in set_of_timepoints if a < 720])\n",
        "        set_of_timepoints = sorted(set_of_timepoints)\n",
        "        result = min(list(map(lambda x: set_of_timepoints[x+1]-set_of_timepoints[x],range(0,len(set_of_timepoints)-1))))\n",
        "        return result"
      ]
    },
    {
      "cell_type": "code",
      "source": [
        "s = Solution()\n",
        "s.findMinDifference([\"00:00\",\"23:59\",\"00:00\"])"
      ],
      "metadata": {
        "id": "YNsT9H3DLb6u",
        "colab": {
          "base_uri": "https://localhost:8080/"
        },
        "outputId": "f0ef12eb-38f1-4aed-b7bd-eef67a1abdb4"
      },
      "execution_count": 32,
      "outputs": [
        {
          "output_type": "execute_result",
          "data": {
            "text/plain": [
              "0"
            ]
          },
          "metadata": {},
          "execution_count": 32
        }
      ]
    }
  ]
}