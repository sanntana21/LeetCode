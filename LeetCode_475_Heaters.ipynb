{
  "nbformat": 4,
  "nbformat_minor": 0,
  "metadata": {
    "colab": {
      "provenance": [],
      "authorship_tag": "ABX9TyNI2rgbBbAP58lVjuwFMFCF",
      "include_colab_link": true
    },
    "kernelspec": {
      "name": "python3",
      "display_name": "Python 3"
    },
    "language_info": {
      "name": "python"
    }
  },
  "cells": [
    {
      "cell_type": "markdown",
      "metadata": {
        "id": "view-in-github",
        "colab_type": "text"
      },
      "source": [
        "<a href=\"https://colab.research.google.com/github/sanntana21/LeetCode/blob/main/LeetCode_475_Heaters.ipynb\" target=\"_parent\"><img src=\"https://colab.research.google.com/assets/colab-badge.svg\" alt=\"Open In Colab\"/></a>"
      ]
    },
    {
      "cell_type": "markdown",
      "source": [
        "# **475. Heaters**\n",
        "\n",
        "Winter is coming! During the contest, your first job is to design a standard heater with a fixed warm radius to warm all the houses.\n",
        "\n",
        "Every house can be warmed, as long as the house is within the heater's warm radius range.\n",
        "\n",
        "Given the positions of houses and heaters on a horizontal line, return the minimum radius standard of heaters so that those heaters could cover all houses.\n",
        "\n",
        "Notice that all the heaters follow your radius standard, and the warm radius will the same.\n",
        "\n",
        "\n",
        "\n",
        "**Example 1**\n",
        "\n",
        "Input: houses = [1,2,3], heaters = [2]\n",
        "\n",
        "Output: 1\n",
        "\n",
        "Explanation: The only heater was placed in the position 2, and if we use the radius 1 standard, then all the houses can be warmed.\n",
        "\n",
        "**Example 2**\n",
        "\n",
        "Input: houses = [1,2,3,4], heaters = [1,4]\n",
        "Output: 1\n",
        "Explanation: The two heaters were placed at positions 1 and 4. We need to use a radius 1 standard, then all the houses can be warmed.\n",
        "Example 3:\n",
        "\n",
        "Input: houses = [1,5], heaters = [2]\n",
        "Output: 3\n",
        "\n",
        "\n",
        "**Constraints**\n",
        "\n",
        "1 <= houses.length, heaters.length <= 3 * 104\n",
        "1 <= houses[i], heaters[i] <= 109"
      ],
      "metadata": {
        "id": "--CeolwuSlA6"
      }
    },
    {
      "cell_type": "code",
      "execution_count": 77,
      "metadata": {
        "id": "miUulnaV3AP-"
      },
      "outputs": [],
      "source": [
        "class Solution:\n",
        "    def calculate_absolute_distance(self,house : int , heater : int):\n",
        "      return abs(house-heater)\n",
        "\n",
        "    def calculate_left_and_right_position(self,house,heater):\n",
        "      return (house,heater) if house > heater else (heater,house)\n",
        "\n",
        "    def findRadius(self, houses: list[int], heaters: list[int]) -> int:\n",
        "      p_houses = 0\n",
        "      p_heaters = 0\n",
        "      houses = sorted(set(houses))\n",
        "      heaters = sorted(set(heaters))\n",
        "      radio = 0\n",
        "      index = 0\n",
        "      while p_houses < len(houses):\n",
        "        mayor,menor = self.calculate_left_and_right_position(houses[p_houses],heaters[p_heaters])\n",
        "        while menor + radio < mayor:\n",
        "          if p_heaters >= len(heaters) - 1:\n",
        "            radio = mayor - menor\n",
        "          else:\n",
        "            actual = self.calculate_absolute_distance(houses[p_houses],heaters[p_heaters])\n",
        "            siguiente = self.calculate_absolute_distance(houses[p_houses],heaters[p_heaters+1])\n",
        "            if siguiente < actual:\n",
        "              p_heaters += 1\n",
        "              mayor,menor = self.calculate_left_and_right_position(houses[p_houses],heaters[p_heaters])\n",
        "            else:\n",
        "              radio = mayor - menor\n",
        "        p_houses += 1\n",
        "      return radio"
      ]
    },
    {
      "cell_type": "code",
      "source": [
        "s = Solution()\n",
        "s.findRadius([1,2,3,4],[1,4])"
      ],
      "metadata": {
        "colab": {
          "base_uri": "https://localhost:8080/"
        },
        "id": "uIIZy5th3MXT",
        "outputId": "453c3dcc-6330-4830-8abe-b16e4476f503"
      },
      "execution_count": 79,
      "outputs": [
        {
          "output_type": "execute_result",
          "data": {
            "text/plain": [
              "1"
            ]
          },
          "metadata": {},
          "execution_count": 79
        }
      ]
    }
  ]
}