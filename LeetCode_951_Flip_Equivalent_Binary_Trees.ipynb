{
  "nbformat": 4,
  "nbformat_minor": 0,
  "metadata": {
    "colab": {
      "provenance": [],
      "authorship_tag": "ABX9TyOFn9q/v2ZmnyBpQ8OoHchB",
      "include_colab_link": true
    },
    "kernelspec": {
      "name": "python3",
      "display_name": "Python 3"
    },
    "language_info": {
      "name": "python"
    }
  },
  "cells": [
    {
      "cell_type": "markdown",
      "metadata": {
        "id": "view-in-github",
        "colab_type": "text"
      },
      "source": [
        "<a href=\"https://colab.research.google.com/github/sanntana21/LeetCode/blob/main/LeetCode_951_Flip_Equivalent_Binary_Trees.ipynb\" target=\"_parent\"><img src=\"https://colab.research.google.com/assets/colab-badge.svg\" alt=\"Open In Colab\"/></a>"
      ]
    },
    {
      "cell_type": "markdown",
      "source": [
        "## 951. Flip Equivalent Binary Trees\n",
        "Solved (Beats 100% runtime)\n",
        "\n",
        "For a binary tree T, we can define a flip operation as follows: choose any node, and swap the left and right child subtrees.\n",
        "\n",
        "A binary tree X is flip equivalent to a binary tree Y if and only if we can make X equal to Y after some number of flip operations.\n",
        "\n",
        "Given the roots of two binary trees root1 and root2, return true if the two trees are flip equivalent or false otherwise.\n",
        "\n"
      ],
      "metadata": {
        "id": "--CeolwuSlA6"
      }
    },
    {
      "cell_type": "code",
      "execution_count": null,
      "metadata": {
        "id": "miUulnaV3AP-"
      },
      "outputs": [],
      "source": [
        "class Solution:\n",
        "    def flipEquiv(self, root1: Optional[TreeNode], root2: Optional[TreeNode]) -> bool:\n",
        "        resultado = True\n",
        "        if not root1 or not root2:\n",
        "            if not root1 and not root2:\n",
        "                resultado = True\n",
        "            else:\n",
        "                resultado = False\n",
        "        else:\n",
        "            if root1.val != root2.val:\n",
        "                resultado = False\n",
        "            else:\n",
        "                izquierda_coincide = True\n",
        "                derecha_coincide = True\n",
        "                flipped = False\n",
        "                if root1.left or root1.right or root2.right or root2.left:\n",
        "                    if root1.left:\n",
        "                        if root2.left:\n",
        "                            if root1.left.val == root2.left.val:\n",
        "                                izquierda_coincide = self.flipEquiv(root1.left,root2.left)\n",
        "                            else:\n",
        "                                izquierda_coincide = self.flipEquiv(root1.left,root2.right)\n",
        "                                flipped = True\n",
        "                        elif root2.right:\n",
        "                            izquierda_coincide = self.flipEquiv(root1.left,root2.right)\n",
        "                            flipped = True\n",
        "                        else:\n",
        "                            izquierda_coincide = False\n",
        "                    elif root2.left:\n",
        "                        izquierda_coincide = False\n",
        "                    if flipped == True and izquierda_coincide:\n",
        "                        aux = TreeNode(root2.right.val,root2.right.right,root2.right.left)\n",
        "                        root2.right = root2.left\n",
        "                        root2.left = aux\n",
        "                    if root1.right:\n",
        "                        if root2.right:\n",
        "                            if root1.right.val == root2.right.val:\n",
        "                                derecha_coincide = self.flipEquiv(root1.right,root2.right)\n",
        "                            else:\n",
        "                                derecha_coincide = self.flipEquiv(root1.right,root2.left)\n",
        "                        elif root2.left:\n",
        "                            izquierda_coincide = True\n",
        "                            derecha_coincide = self.flipEquiv(root1.right,root2.left)\n",
        "                        else:\n",
        "                            derecha_coincide = False\n",
        "                    elif root2.right:\n",
        "                        derecha_coincide = self.flipEquiv(root1.right,root2.left)\n",
        "                resultado = izquierda_coincide and derecha_coincide\n",
        "        return resultado\n",
        ""
      ]
    }
  ]
}